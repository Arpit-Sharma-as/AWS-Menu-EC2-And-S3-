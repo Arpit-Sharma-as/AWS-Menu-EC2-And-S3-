{
 "cells": [
  {
   "cell_type": "code",
   "execution_count": 4,
   "id": "3c22bbaa",
   "metadata": {},
   "outputs": [
    {
     "name": "stdout",
     "output_type": "stream",
     "text": [
      "For launching an instance enter op:1\n",
      "For creating bucket enter op:2\n",
      "Enter Your Input:1\n",
      "instance created\n"
     ]
    }
   ],
   "source": [
    "import boto3\n",
    "\n",
    "print(\"For launching an instance enter op:1\")\n",
    "print(\"For creating bucket enter op:2\")\n",
    "op = int(input(\"Enter Your Input:\"))\n",
    "\n",
    "def launch_ec2_instance():\n",
    "    \n",
    "    launch_ins = boto3.client('ec2', region_name='ap-south-1')\n",
    "    launch_ins.run_instances(\n",
    "        ImageId= \"ami-0ded8326293d3201b\",\n",
    "        InstanceType=\"t2.micro\",\n",
    "        MaxCount=1,\n",
    "        MinCount=1\n",
    "    )\n",
    "    print(\"instance created\")\n",
    "    \n",
    "    \n",
    "def launch_s3_bucket():\n",
    "    s3_client = boto3.client('s3')\n",
    "    s3_client.create_bucket(\n",
    "            Bucket=\"arpitbucket\",\n",
    "            CreateBucketConfiguration={\n",
    "                'LocationConstraint': 'ap-south-1'\n",
    "            })\n",
    "    print(\"bucket created\")\n",
    "        \n",
    "    \n",
    "if op == 1:\n",
    "    launch_ec2_instance()\n",
    "            \n",
    "elif op == 2:\n",
    "    launch_s3_bucket()\n",
    "            \n",
    "    "
   ]
  },
  {
   "cell_type": "code",
   "execution_count": null,
   "id": "2e231e17",
   "metadata": {},
   "outputs": [],
   "source": []
  }
 ],
 "metadata": {
  "kernelspec": {
   "display_name": "Python 3 (ipykernel)",
   "language": "python",
   "name": "python3"
  },
  "language_info": {
   "codemirror_mode": {
    "name": "ipython",
    "version": 3
   },
   "file_extension": ".py",
   "mimetype": "text/x-python",
   "name": "python",
   "nbconvert_exporter": "python",
   "pygments_lexer": "ipython3",
   "version": "3.11.3"
  }
 },
 "nbformat": 4,
 "nbformat_minor": 5
}
